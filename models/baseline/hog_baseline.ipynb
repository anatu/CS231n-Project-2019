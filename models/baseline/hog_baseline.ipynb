{
 "cells": [
  {
   "cell_type": "code",
   "execution_count": 44,
   "metadata": {},
   "outputs": [
    {
     "data": {
      "text/plain": [
       "'\\nRevised baseline SVM model trained with custom (HOG) features\\n'"
      ]
     },
     "execution_count": 44,
     "metadata": {},
     "output_type": "execute_result"
    }
   ],
   "source": [
    "# https://www.kaggle.com/manikg/training-svm-classifier-with-hog-features\n",
    "'''\n",
    "Revised baseline SVM model trained with custom (HOG) features\n",
    "'''"
   ]
  },
  {
   "cell_type": "code",
   "execution_count": 57,
   "metadata": {},
   "outputs": [],
   "source": [
    "# Import libraries\n",
    "from linear_classifier import *\n",
    "from linear_svm import *\n",
    "import time\n",
    "import os\n",
    "import numpy as np \n",
    "import json\n",
    "import imghdr\n",
    "from PIL import Image\n",
    "from matplotlib import pyplot as plt\n",
    "from skimage import color\n",
    "from skimage.feature import hog\n",
    "from sklearn import svm\n",
    "from sklearn.metrics import classification_report,accuracy_score"
   ]
  },
  {
   "cell_type": "code",
   "execution_count": 58,
   "metadata": {},
   "outputs": [],
   "source": [
    "def load_image( infilename ) :\n",
    "    '''\n",
    "    Helper function to manually load in images. Accepts image path infilename \n",
    "    and returns the numpy array representation of the image data\n",
    "    (Need final X to be of dims (N, H, W, D))\n",
    "    '''\n",
    "    img = Image.open( infilename )\n",
    "    img.load()\n",
    "    data = np.asarray( img, dtype=\"int32\" )\n",
    "    return data\n",
    "\n",
    "def loadData(rootDir):\n",
    "    '''\n",
    "    Helper function which goes into one of our split dataset folders (train, val, test) to extract\n",
    "    image data. Loads images, performs HOG feature extraction, extracts class label from file name,\n",
    "    and returns two numpy arrays X and y with data / labels for all examples in rootDir\n",
    "    '''\n",
    "    featList = []\n",
    "    labelList = []\n",
    "    imgList = []\n",
    "    ppc = 8\n",
    "    for c in os.listdir(rootDir):\n",
    "        for file in os.listdir(os.path.join(rootDir, c)):\n",
    "            filePath = os.path.join(rootDir, c, file)\n",
    "            if imghdr.what(filePath):\n",
    "                imRaw = load_image(filePath)\n",
    "                hogFeature = hog(imRaw, orientations=8, pixels_per_cell=(ppc,ppc), \n",
    "                                    feature_vector = True, visualize = False, cells_per_block=(4,4)) \n",
    "                # Note: dataset-split/val\\compost\\compost168.jpg may not be resized yet!\n",
    "                if hogFeature.shape[0] != 351360:\n",
    "                    print(\"Skipping dimension-incompatible image {}\".format(file))\n",
    "                    continue\n",
    "                featList.append(hogFeature)                \n",
    "                labelList.append(c)\n",
    "#                 imgList.append(hogImg)                \n",
    "                \n",
    "    X = np.stack(tuple(featList))\n",
    "    y = np.array(labelList)\n",
    "    print(X)\n",
    "    print(y)\n",
    "    return X, y"
   ]
  },
  {
   "cell_type": "code",
   "execution_count": 59,
   "metadata": {
    "scrolled": true
   },
   "outputs": [
    {
     "name": "stdout",
     "output_type": "stream",
     "text": [
      "[[0.00552197 0.         0.00372871 ... 0.00198413 0.01102167 0.0052206 ]\n",
      " [0.01172894 0.00491488 0.01429891 ... 0.         0.00454136 0.00074059]\n",
      " [0.01557826 0.00254392 0.00442452 ... 0.0005773  0.00135731 0.00430466]\n",
      " ...\n",
      " [0.         0.         0.         ... 0.00203409 0.03087534 0.        ]\n",
      " [0.         0.         0.         ... 0.00067525 0.00230736 0.00118447]\n",
      " [0.00998217 0.         0.00470564 ... 0.         0.         0.        ]]\n",
      "['cardboard' 'cardboard' 'cardboard' ... 'trash' 'trash' 'trash']\n",
      "Skipping dimension-incompatible image compost168.jpg\n",
      "[[0.03357005 0.01043479 0.01795576 ... 0.00201928 0.0012618  0.        ]\n",
      " [0.00445942 0.00057093 0.00559347 ... 0.00133476 0.03041473 0.0022046 ]\n",
      " [0.01760167 0.         0.         ... 0.00808355 0.01755447 0.00663305]\n",
      " ...\n",
      " [0.         0.         0.         ... 0.         0.         0.        ]\n",
      " [0.         0.         0.         ... 0.         0.00125874 0.        ]\n",
      " [0.01085155 0.         0.00219235 ... 0.         0.00812197 0.        ]]\n",
      "['cardboard' 'cardboard' 'cardboard' 'cardboard' 'cardboard' 'cardboard'\n",
      " 'cardboard' 'cardboard' 'cardboard' 'cardboard' 'cardboard' 'cardboard'\n",
      " 'cardboard' 'cardboard' 'cardboard' 'cardboard' 'cardboard' 'cardboard'\n",
      " 'cardboard' 'cardboard' 'cardboard' 'cardboard' 'cardboard' 'cardboard'\n",
      " 'cardboard' 'cardboard' 'cardboard' 'cardboard' 'cardboard' 'cardboard'\n",
      " 'cardboard' 'cardboard' 'cardboard' 'cardboard' 'cardboard' 'cardboard'\n",
      " 'cardboard' 'cardboard' 'cardboard' 'cardboard' 'cardboard' 'cardboard'\n",
      " 'cardboard' 'cardboard' 'cardboard' 'cardboard' 'cardboard' 'cardboard'\n",
      " 'cardboard' 'cardboard' 'cardboard' 'cardboard' 'cardboard' 'cardboard'\n",
      " 'cardboard' 'cardboard' 'cardboard' 'cardboard' 'cardboard' 'cardboard'\n",
      " 'cardboard' 'cardboard' 'cardboard' 'cardboard' 'cardboard' 'cardboard'\n",
      " 'cardboard' 'cardboard' 'cardboard' 'cardboard' 'cardboard' 'cardboard'\n",
      " 'cardboard' 'cardboard' 'cardboard' 'cardboard' 'cardboard' 'cardboard'\n",
      " 'cardboard' 'cardboard' 'cardboard' 'cardboard' 'cardboard' 'cardboard'\n",
      " 'cardboard' 'cardboard' 'cardboard' 'cardboard' 'cardboard' 'cardboard'\n",
      " 'cardboard' 'cardboard' 'cardboard' 'cardboard' 'cardboard' 'cardboard'\n",
      " 'cardboard' 'cardboard' 'cardboard' 'cardboard' 'cardboard' 'compost'\n",
      " 'compost' 'compost' 'compost' 'compost' 'compost' 'compost' 'compost'\n",
      " 'compost' 'compost' 'compost' 'compost' 'compost' 'compost' 'compost'\n",
      " 'compost' 'compost' 'compost' 'compost' 'compost' 'compost' 'compost'\n",
      " 'compost' 'compost' 'compost' 'compost' 'compost' 'compost' 'compost'\n",
      " 'compost' 'compost' 'compost' 'compost' 'compost' 'compost' 'compost'\n",
      " 'compost' 'compost' 'compost' 'compost' 'compost' 'glass' 'glass' 'glass'\n",
      " 'glass' 'glass' 'glass' 'glass' 'glass' 'glass' 'glass' 'glass' 'glass'\n",
      " 'glass' 'glass' 'glass' 'glass' 'glass' 'glass' 'glass' 'glass' 'glass'\n",
      " 'glass' 'glass' 'glass' 'glass' 'glass' 'glass' 'glass' 'glass' 'glass'\n",
      " 'glass' 'glass' 'glass' 'glass' 'glass' 'glass' 'glass' 'glass' 'glass'\n",
      " 'glass' 'glass' 'glass' 'glass' 'glass' 'glass' 'glass' 'glass' 'glass'\n",
      " 'glass' 'glass' 'glass' 'glass' 'glass' 'glass' 'glass' 'glass' 'glass'\n",
      " 'glass' 'glass' 'glass' 'glass' 'glass' 'glass' 'glass' 'glass' 'glass'\n",
      " 'glass' 'glass' 'glass' 'glass' 'glass' 'glass' 'glass' 'glass' 'glass'\n",
      " 'glass' 'glass' 'glass' 'glass' 'glass' 'glass' 'glass' 'glass' 'glass'\n",
      " 'glass' 'glass' 'glass' 'glass' 'glass' 'glass' 'glass' 'glass' 'glass'\n",
      " 'glass' 'glass' 'glass' 'glass' 'glass' 'glass' 'glass' 'glass' 'glass'\n",
      " 'glass' 'glass' 'glass' 'glass' 'glass' 'glass' 'glass' 'glass' 'glass'\n",
      " 'glass' 'glass' 'glass' 'glass' 'glass' 'glass' 'glass' 'glass' 'glass'\n",
      " 'glass' 'glass' 'glass' 'glass' 'glass' 'glass' 'glass' 'glass' 'glass'\n",
      " 'metal' 'metal' 'metal' 'metal' 'metal' 'metal' 'metal' 'metal' 'metal'\n",
      " 'metal' 'metal' 'metal' 'metal' 'metal' 'metal' 'metal' 'metal' 'metal'\n",
      " 'metal' 'metal' 'metal' 'metal' 'metal' 'metal' 'metal' 'metal' 'metal'\n",
      " 'metal' 'metal' 'metal' 'metal' 'metal' 'metal' 'metal' 'metal' 'metal'\n",
      " 'metal' 'metal' 'metal' 'metal' 'metal' 'metal' 'metal' 'metal' 'metal'\n",
      " 'metal' 'metal' 'metal' 'metal' 'metal' 'metal' 'metal' 'metal' 'metal'\n",
      " 'metal' 'metal' 'metal' 'metal' 'metal' 'metal' 'metal' 'metal' 'metal'\n",
      " 'metal' 'metal' 'metal' 'metal' 'metal' 'metal' 'metal' 'metal' 'metal'\n",
      " 'metal' 'metal' 'metal' 'metal' 'metal' 'metal' 'metal' 'metal' 'metal'\n",
      " 'metal' 'metal' 'metal' 'metal' 'metal' 'metal' 'metal' 'metal' 'metal'\n",
      " 'metal' 'metal' 'metal' 'metal' 'metal' 'metal' 'metal' 'metal' 'metal'\n",
      " 'metal' 'metal' 'metal' 'metal' 'metal' 'metal' 'metal' 'paper' 'paper'\n",
      " 'paper' 'paper' 'paper' 'paper' 'paper' 'paper' 'paper' 'paper' 'paper'\n",
      " 'paper' 'paper' 'paper' 'paper' 'paper' 'paper' 'paper' 'paper' 'paper'\n",
      " 'paper' 'paper' 'paper' 'paper' 'paper' 'paper' 'paper' 'paper' 'paper'\n",
      " 'paper' 'paper' 'paper' 'paper' 'paper' 'paper' 'paper' 'paper' 'paper'\n",
      " 'paper' 'paper' 'paper' 'paper' 'paper' 'paper' 'paper' 'paper' 'paper'\n",
      " 'paper' 'paper' 'paper' 'paper' 'paper' 'paper' 'paper' 'paper' 'paper'\n",
      " 'paper' 'paper' 'paper' 'paper' 'paper' 'paper' 'paper' 'paper' 'paper'\n",
      " 'paper' 'paper' 'paper' 'paper' 'paper' 'paper' 'paper' 'paper' 'paper'\n",
      " 'paper' 'paper' 'paper' 'paper' 'paper' 'paper' 'paper' 'paper' 'paper'\n",
      " 'paper' 'paper' 'paper' 'paper' 'paper' 'paper' 'paper' 'paper' 'paper'\n",
      " 'paper' 'paper' 'paper' 'paper' 'paper' 'paper' 'paper' 'paper' 'paper'\n",
      " 'paper' 'paper' 'paper' 'paper' 'paper' 'paper' 'paper' 'paper' 'paper'\n",
      " 'paper' 'paper' 'paper' 'paper' 'paper' 'paper' 'paper' 'paper' 'paper'\n",
      " 'paper' 'paper' 'paper' 'paper' 'paper' 'paper' 'paper' 'paper' 'paper'\n",
      " 'paper' 'paper' 'paper' 'paper' 'paper' 'paper' 'paper' 'paper' 'paper'\n",
      " 'paper' 'paper' 'paper' 'paper' 'paper' 'paper' 'paper' 'paper' 'paper'\n",
      " 'paper' 'paper' 'paper' 'paper' 'paper' 'paper' 'paper' 'paper' 'paper'\n",
      " 'paper' 'paper' 'paper' 'plastic' 'plastic' 'plastic' 'plastic' 'plastic'\n",
      " 'plastic' 'plastic' 'plastic' 'plastic' 'plastic' 'plastic' 'plastic'\n",
      " 'plastic' 'plastic' 'plastic' 'plastic' 'plastic' 'plastic' 'plastic'\n",
      " 'plastic' 'plastic' 'plastic' 'plastic' 'plastic' 'plastic' 'plastic'\n",
      " 'plastic' 'plastic' 'plastic' 'plastic' 'plastic' 'plastic' 'plastic'\n",
      " 'plastic' 'plastic' 'plastic' 'plastic' 'plastic' 'plastic' 'plastic'\n",
      " 'plastic' 'plastic' 'plastic' 'plastic' 'plastic' 'plastic' 'plastic'\n",
      " 'plastic' 'plastic' 'plastic' 'plastic' 'plastic' 'plastic' 'plastic'\n",
      " 'plastic' 'plastic' 'plastic' 'plastic' 'plastic' 'plastic' 'plastic'\n",
      " 'plastic' 'plastic' 'plastic' 'plastic' 'plastic' 'plastic' 'plastic'\n",
      " 'plastic' 'plastic' 'plastic' 'plastic' 'plastic' 'plastic' 'plastic'\n",
      " 'plastic' 'plastic' 'plastic' 'plastic' 'plastic' 'plastic' 'plastic'\n",
      " 'plastic' 'plastic' 'plastic' 'plastic' 'plastic' 'plastic' 'plastic'\n",
      " 'plastic' 'plastic' 'plastic' 'plastic' 'plastic' 'plastic' 'plastic'\n",
      " 'plastic' 'plastic' 'plastic' 'plastic' 'plastic' 'plastic' 'plastic'\n",
      " 'plastic' 'plastic' 'plastic' 'plastic' 'plastic' 'plastic' 'plastic'\n",
      " 'plastic' 'plastic' 'plastic' 'plastic' 'plastic' 'plastic' 'plastic'\n",
      " 'plastic' 'plastic' 'plastic' 'plastic' 'plastic' 'plastic' 'plastic'\n",
      " 'plastic' 'plastic' 'plastic' 'plastic' 'plastic' 'plastic' 'plastic'\n",
      " 'plastic' 'plastic' 'plastic' 'trash' 'trash' 'trash' 'trash' 'trash'\n",
      " 'trash' 'trash' 'trash' 'trash' 'trash' 'trash' 'trash' 'trash' 'trash'\n",
      " 'trash' 'trash' 'trash' 'trash' 'trash' 'trash' 'trash' 'trash' 'trash'\n",
      " 'trash' 'trash' 'trash' 'trash' 'trash' 'trash' 'trash' 'trash' 'trash'\n",
      " 'trash' 'trash' 'trash' 'trash' 'trash' 'trash' 'trash' 'trash' 'trash'\n",
      " 'trash' 'trash' 'trash' 'trash' 'trash' 'trash' 'trash' 'trash' 'trash']\n"
     ]
    }
   ],
   "source": [
    "'''\n",
    "Load in the training and validation data and perform HOG feature extraction.\n",
    "'''\n",
    "X_train, y_train = loadData(\"../../datasets/trashnet/data/dataset-split/train\")\n",
    "X_val, y_val = loadData(\"../../datasets/trashnet/data/dataset-split/val\")"
   ]
  },
  {
   "cell_type": "code",
   "execution_count": 60,
   "metadata": {},
   "outputs": [
    {
     "ename": "NameError",
     "evalue": "name 'trainImgs' is not defined",
     "output_type": "error",
     "traceback": [
      "\u001b[1;31m---------------------------------------------------------------------------\u001b[0m",
      "\u001b[1;31mNameError\u001b[0m                                 Traceback (most recent call last)",
      "\u001b[1;32m<ipython-input-60-ed9d55f57465>\u001b[0m in \u001b[0;36m<module>\u001b[1;34m\u001b[0m\n\u001b[0;32m      1\u001b[0m \u001b[1;31m# Visualize HOG images\u001b[0m\u001b[1;33m\u001b[0m\u001b[1;33m\u001b[0m\u001b[1;33m\u001b[0m\u001b[0m\n\u001b[1;32m----> 2\u001b[1;33m \u001b[0mplt\u001b[0m\u001b[1;33m.\u001b[0m\u001b[0mimshow\u001b[0m\u001b[1;33m(\u001b[0m\u001b[0mtrainImgs\u001b[0m\u001b[1;33m[\u001b[0m\u001b[1;36m10\u001b[0m\u001b[1;33m]\u001b[0m\u001b[1;33m)\u001b[0m\u001b[1;33m\u001b[0m\u001b[1;33m\u001b[0m\u001b[0m\n\u001b[0m",
      "\u001b[1;31mNameError\u001b[0m: name 'trainImgs' is not defined"
     ]
    }
   ],
   "source": [
    "# Visualize HOG images\n",
    "plt.imshow(trainImgs[10])"
   ]
  },
  {
   "cell_type": "code",
   "execution_count": 61,
   "metadata": {},
   "outputs": [
    {
     "name": "stdout",
     "output_type": "stream",
     "text": [
      "(1438, 351360)\n",
      "(1438,)\n",
      "(719, 351360)\n",
      "(719,)\n"
     ]
    }
   ],
   "source": [
    "# Sanity check dimensions\n",
    "print(X_train.shape)\n",
    "print(y_train.shape)\n",
    "print(X_val.shape)\n",
    "print(y_val.shape)"
   ]
  },
  {
   "cell_type": "code",
   "execution_count": 62,
   "metadata": {},
   "outputs": [],
   "source": [
    "# Preprocessing: subtract the mean image\n",
    "mean_image = np.mean(X_train, axis=0)\n",
    "X_train = X_train.astype(float) - mean_image\n",
    "X_val = X_val.astype(float) - mean_image"
   ]
  },
  {
   "cell_type": "code",
   "execution_count": 63,
   "metadata": {},
   "outputs": [],
   "source": [
    "# Append the bias dimension of ones (i.e. bias trick) so that our SVM\n",
    "# only has to worry about optimizing a single weight matrix W.\n",
    "X_train = np.hstack([X_train, np.ones((X_train.shape[0], 1))])\n",
    "X_val = np.hstack([X_val, np.ones((X_val.shape[0], 1))])"
   ]
  },
  {
   "cell_type": "code",
   "execution_count": 64,
   "metadata": {},
   "outputs": [],
   "source": [
    "# Encode the class labels\n",
    "from sklearn.preprocessing import LabelEncoder\n",
    "classes = [\"cardboard\", \"compost\", \"glass\", \"metal\", \"paper\", \"plastic\", \"trash\"]\n",
    "le = LabelEncoder()\n",
    "le.fit(classes)\n",
    "y_train = le.transform(y_train)\n",
    "y_val = le.transform(y_val)"
   ]
  },
  {
   "cell_type": "code",
   "execution_count": 65,
   "metadata": {
    "scrolled": true
   },
   "outputs": [
    {
     "name": "stdout",
     "output_type": "stream",
     "text": [
      "Training model with 1438 rows of training data\n",
      "iteration 0 / 2000: loss 30755.538288\n",
      "iteration 100 / 2000: loss 11289.784369\n",
      "iteration 200 / 2000: loss 4146.673998\n",
      "iteration 300 / 2000: loss 1525.452464\n",
      "iteration 400 / 2000: loss 563.575117\n",
      "iteration 500 / 2000: loss 210.606729\n",
      "iteration 600 / 2000: loss 81.082111\n",
      "iteration 700 / 2000: loss 33.551884\n",
      "iteration 800 / 2000: loss 16.110212\n",
      "iteration 900 / 2000: loss 9.709962\n",
      "iteration 1000 / 2000: loss 7.361339\n",
      "iteration 1100 / 2000: loss 6.499476\n",
      "iteration 1200 / 2000: loss 6.183238\n",
      "iteration 1300 / 2000: loss 6.067145\n",
      "iteration 1400 / 2000: loss 6.024566\n",
      "iteration 1500 / 2000: loss 6.008956\n",
      "iteration 1600 / 2000: loss 6.003221\n",
      "iteration 1700 / 2000: loss 6.001099\n",
      "iteration 1800 / 2000: loss 6.000339\n",
      "iteration 1900 / 2000: loss 6.000060\n",
      "Training Complete. That took 1115.038752s\n"
     ]
    }
   ],
   "source": [
    "# TRAIN THE MODEL\n",
    "svm = LinearSVM()\n",
    "tic = time.time()\n",
    "print(\"Training model with {} rows of training data\".format(X_train.shape[0]))\n",
    "loss_hist = svm.train(X_train, y_train, learning_rate=1e-7, reg=2.5e4,\n",
    "                      num_iters=2000, verbose=True)\n",
    "toc = time.time()\n",
    "print('Training Complete. That took %fs' % (toc - tic))"
   ]
  },
  {
   "cell_type": "code",
   "execution_count": 66,
   "metadata": {},
   "outputs": [
    {
     "data": {
      "image/png": "[encoded data removed]",
      "text/plain": [
       "<Figure size 432x288 with 1 Axes>"
      ]
     },
     "metadata": {
      "needs_background": "light"
     },
     "output_type": "display_data"
    }
   ],
   "source": [
    "# Plot the loss as a function iteration number:\n",
    "plt.plot(loss_hist)\n",
    "plt.xlabel('Iteration number')\n",
    "plt.ylabel('Loss value')\n",
    "plt.show()"
   ]
  },
  {
   "cell_type": "code",
   "execution_count": 67,
   "metadata": {},
   "outputs": [
    {
     "name": "stdout",
     "output_type": "stream",
     "text": [
      "Baseline validation set accuracy is 0.393602\n"
     ]
    }
   ],
   "source": [
    "# Validation set accuracy\n",
    "y_val_pred = svm.predict(X_val)\n",
    "val_accuracy = np.mean(y_val == y_val_pred)\n",
    "print('Baseline validation set accuracy is %f' % val_accuracy)"
   ]
  },
  {
   "cell_type": "code",
   "execution_count": 68,
   "metadata": {},
   "outputs": [
    {
     "name": "stdout",
     "output_type": "stream",
     "text": [
      "Baseline train set accuracy is 0.503477\n"
     ]
    }
   ],
   "source": [
    "# Training set accuracy\n",
    "y_train_pred = svm.predict(X_train)\n",
    "train_accuracy = np.mean(y_train == y_train_pred)\n",
    "print('Baseline train set accuracy is %f' % train_accuracy)"
   ]
  },
  {
   "cell_type": "code",
   "execution_count": null,
   "metadata": {},
   "outputs": [],
   "source": []
  },
  {
   "cell_type": "code",
   "execution_count": null,
   "metadata": {},
   "outputs": [],
   "source": []
  },
  {
   "cell_type": "code",
   "execution_count": null,
   "metadata": {},
   "outputs": [],
   "source": []
  },
  {
   "cell_type": "code",
   "execution_count": null,
   "metadata": {},
   "outputs": [],
   "source": []
  },
  {
   "cell_type": "code",
   "execution_count": null,
   "metadata": {},
   "outputs": [],
   "source": []
  }
 ],
 "metadata": {
  "kernelspec": {
   "display_name": "Python 3",
   "language": "python",
   "name": "python3"
  },
  "language_info": {
   "codemirror_mode": {
    "name": "ipython",
    "version": 3
   },
   "file_extension": ".py",
   "mimetype": "text/x-python",
   "name": "python",
   "nbconvert_exporter": "python",
   "pygments_lexer": "ipython3",
   "version": "3.7.3"
  }
 },
 "nbformat": 4,
 "nbformat_minor": 2
}
