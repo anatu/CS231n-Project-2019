{
 "cells": [
  {
   "cell_type": "code",
   "execution_count": 1,
   "metadata": {},
   "outputs": [
    {
     "data": {
      "text/plain": [
       "'\\nRevised baseline SVM model trained with custom (HOG) features\\n'"
      ]
     },
     "execution_count": 1,
     "metadata": {},
     "output_type": "execute_result"
    }
   ],
   "source": [
    "# https://www.kaggle.com/manikg/training-svm-classifier-with-hog-features\n",
    "'''\n",
    "Revised baseline SVM model trained with custom features\n",
    "'''"
   ]
  },
  {
   "cell_type": "code",
   "execution_count": 1,
   "metadata": {},
   "outputs": [],
   "source": [
    "# Import libraries\n",
    "from linear_classifier import *\n",
    "from linear_svm import *\n",
    "import time\n",
    "import os\n",
    "import numpy as np \n",
    "import json\n",
    "import imghdr\n",
    "from PIL import Image\n",
    "from matplotlib import pyplot as plt\n",
    "from skimage import color\n",
    "from skimage.feature import hog, daisy\n",
    "from sklearn import svm\n",
    "from sklearn.metrics import classification_report,accuracy_score"
   ]
  },
  {
   "cell_type": "code",
   "execution_count": 4,
   "metadata": {},
   "outputs": [],
   "source": [
    "def load_image( infilename ) :\n",
    "    '''\n",
    "    Helper function to manually load in images. Accepts image path infilename \n",
    "    and returns the numpy array representation of the image data\n",
    "    (Need final X to be of dims (N, H, W, D))\n",
    "    '''\n",
    "    img = Image.open( infilename )\n",
    "    img.load()\n",
    "    data = np.asarray( img, dtype=\"int32\" )\n",
    "    return data\n",
    "\n",
    "def loadData(rootDir, featureType):\n",
    "    '''\n",
    "    Helper function which goes into one of our split dataset folders (train, val, test) to extract\n",
    "    image data. Loads images, performs custom feature extraction, extracts class label from file name,\n",
    "    and returns two numpy arrays X and y with data / labels for all examples in rootDir\n",
    "    '''\n",
    "    featList = []\n",
    "    labelList = []\n",
    "    imgList = []\n",
    "    ppc = 16\n",
    "    for c in os.listdir(rootDir):\n",
    "        for file in os.listdir(os.path.join(rootDir, c)):\n",
    "            filePath = os.path.join(rootDir, c, file)\n",
    "            if imghdr.what(filePath):\n",
    "                imRaw = load_image(filePath)\n",
    "                if featureType == \"hog\":\n",
    "                    feature = hog(imRaw, orientations=8, pixels_per_cell=(ppc,ppc), \n",
    "                                    feature_vector = True, visualize = False, cells_per_block=(2,2)) # HOG Features\n",
    "                elif featureType == \"daisy\":\n",
    "                    imGray = color.rgb2gray(imRaw)\n",
    "                    feature = daisy(imGray, step=4, radius=15, rings=3, histograms=8, orientations=8,\n",
    "                                    normalization=\"l1\", visualize = False) # DAISY Features (similar to SIFT)\n",
    "                # Note: dataset-split/val\\compost\\compost168.jpg may not be resized yet!\n",
    "                if imRaw.shape != (384, 512, 3):\n",
    "                    print(\"Skipping dimension-incompatible image {}\".format(file))\n",
    "                    continue\n",
    "                featList.append(feature)                \n",
    "                labelList.append(c)\n",
    "                \n",
    "    X = np.stack(tuple(featList))\n",
    "    y = np.array(labelList)\n",
    "    return X, y"
   ]
  },
  {
   "cell_type": "code",
   "execution_count": 5,
   "metadata": {
    "scrolled": true
   },
   "outputs": [
    {
     "ename": "MemoryError",
     "evalue": "",
     "output_type": "error",
     "traceback": [
      "\u001b[1;31m---------------------------------------------------------------------------\u001b[0m",
      "\u001b[1;31mMemoryError\u001b[0m                               Traceback (most recent call last)",
      "\u001b[1;32m<ipython-input-5-a2a9f82ed1a2>\u001b[0m in \u001b[0;36m<module>\u001b[1;34m\u001b[0m\n\u001b[0;32m      2\u001b[0m \u001b[0mLoad\u001b[0m \u001b[1;32min\u001b[0m \u001b[0mthe\u001b[0m \u001b[0mtraining\u001b[0m \u001b[1;32mand\u001b[0m \u001b[0mvalidation\u001b[0m \u001b[0mdata\u001b[0m \u001b[1;32mand\u001b[0m \u001b[0mperform\u001b[0m \u001b[0mHOG\u001b[0m \u001b[0mfeature\u001b[0m \u001b[0mextraction\u001b[0m\u001b[1;33m.\u001b[0m\u001b[1;33m\u001b[0m\u001b[1;33m\u001b[0m\u001b[0m\n\u001b[0;32m      3\u001b[0m '''\n\u001b[1;32m----> 4\u001b[1;33m \u001b[0mX_train\u001b[0m\u001b[1;33m,\u001b[0m \u001b[0my_train\u001b[0m \u001b[1;33m=\u001b[0m \u001b[0mloadData\u001b[0m\u001b[1;33m(\u001b[0m\u001b[1;34m\"../../datasets/trashnet/data/dataset-split/train\"\u001b[0m\u001b[1;33m,\u001b[0m \u001b[1;34m\"daisy\"\u001b[0m\u001b[1;33m)\u001b[0m\u001b[1;33m\u001b[0m\u001b[1;33m\u001b[0m\u001b[0m\n\u001b[0m\u001b[0;32m      5\u001b[0m \u001b[0mX_val\u001b[0m\u001b[1;33m,\u001b[0m \u001b[0my_val\u001b[0m \u001b[1;33m=\u001b[0m \u001b[0mloadData\u001b[0m\u001b[1;33m(\u001b[0m\u001b[1;34m\"../../datasets/trashnet/data/dataset-split/val\"\u001b[0m\u001b[1;33m,\u001b[0m \u001b[1;34m\"daisy\"\u001b[0m\u001b[1;33m)\u001b[0m\u001b[1;33m\u001b[0m\u001b[1;33m\u001b[0m\u001b[0m\n",
      "\u001b[1;32m<ipython-input-4-35d7de58c75f>\u001b[0m in \u001b[0;36mloadData\u001b[1;34m(rootDir, featureType)\u001b[0m\n\u001b[0;32m     31\u001b[0m                     \u001b[0mimGray\u001b[0m \u001b[1;33m=\u001b[0m \u001b[0mcolor\u001b[0m\u001b[1;33m.\u001b[0m\u001b[0mrgb2gray\u001b[0m\u001b[1;33m(\u001b[0m\u001b[0mimRaw\u001b[0m\u001b[1;33m)\u001b[0m\u001b[1;33m\u001b[0m\u001b[1;33m\u001b[0m\u001b[0m\n\u001b[0;32m     32\u001b[0m                     feature = daisy(imGray, step=4, radius=15, rings=3, histograms=8, orientations=8,\n\u001b[1;32m---> 33\u001b[1;33m                                     normalization=\"l1\", visualize = False) # DAISY Features (similar to SIFT)\n\u001b[0m\u001b[0;32m     34\u001b[0m                 \u001b[1;31m# Note: dataset-split/val\\compost\\compost168.jpg may not be resized yet!\u001b[0m\u001b[1;33m\u001b[0m\u001b[1;33m\u001b[0m\u001b[1;33m\u001b[0m\u001b[0m\n\u001b[0;32m     35\u001b[0m                 \u001b[1;32mif\u001b[0m \u001b[0mimRaw\u001b[0m\u001b[1;33m.\u001b[0m\u001b[0mshape\u001b[0m \u001b[1;33m!=\u001b[0m \u001b[1;33m(\u001b[0m\u001b[1;36m384\u001b[0m\u001b[1;33m,\u001b[0m \u001b[1;36m512\u001b[0m\u001b[1;33m,\u001b[0m \u001b[1;36m3\u001b[0m\u001b[1;33m)\u001b[0m\u001b[1;33m:\u001b[0m\u001b[1;33m\u001b[0m\u001b[1;33m\u001b[0m\u001b[0m\n",
      "\u001b[1;32mC:\\ProgramData\\Anaconda3\\lib\\site-packages\\skimage\\feature\\_daisy.py\u001b[0m in \u001b[0;36mdaisy\u001b[1;34m(image, step, radius, rings, histograms, orientations, normalization, sigmas, ring_radii, visualize)\u001b[0m\n\u001b[0;32m    147\u001b[0m     \u001b[0mdesc_dims\u001b[0m \u001b[1;33m=\u001b[0m \u001b[1;33m(\u001b[0m\u001b[0mrings\u001b[0m \u001b[1;33m*\u001b[0m \u001b[0mhistograms\u001b[0m \u001b[1;33m+\u001b[0m \u001b[1;36m1\u001b[0m\u001b[1;33m)\u001b[0m \u001b[1;33m*\u001b[0m \u001b[0morientations\u001b[0m\u001b[1;33m\u001b[0m\u001b[1;33m\u001b[0m\u001b[0m\n\u001b[0;32m    148\u001b[0m     descs = np.empty((desc_dims, image.shape[0] - 2 * radius,\n\u001b[1;32m--> 149\u001b[1;33m                       image.shape[1] - 2 * radius))\n\u001b[0m\u001b[0;32m    150\u001b[0m     descs[:orientations, :, :] = hist_smooth[0, :, radius:-radius,\n\u001b[0;32m    151\u001b[0m                                              radius:-radius]\n",
      "\u001b[1;31mMemoryError\u001b[0m: "
     ]
    }
   ],
   "source": [
    "'''\n",
    "Load in the training and validation data and perform HOG feature extraction.\n",
    "'''\n",
    "X_train, y_train = loadData(\"../../datasets/trashnet/data/dataset-split/train\", \"daisy\")\n",
    "X_val, y_val = loadData(\"../../datasets/trashnet/data/dataset-split/val\", \"daisy\")"
   ]
  },
  {
   "cell_type": "code",
   "execution_count": null,
   "metadata": {},
   "outputs": [],
   "source": [
    "# Sanity check dimensions\n",
    "print(X_train.shape)\n",
    "print(y_train.shape)\n",
    "print(X_val.shape)\n",
    "print(y_val.shape)"
   ]
  },
  {
   "cell_type": "code",
   "execution_count": null,
   "metadata": {},
   "outputs": [],
   "source": [
    "# Preprocessing: subtract the mean image\n",
    "mean_image = np.mean(X_train, axis=0)\n",
    "X_train = X_train.astype(float) - mean_image\n",
    "X_val = X_val.astype(float) - mean_image"
   ]
  },
  {
   "cell_type": "code",
   "execution_count": null,
   "metadata": {},
   "outputs": [],
   "source": [
    "# Append the bias dimension of ones (i.e. bias trick) so that our SVM\n",
    "# only has to worry about optimizing a single weight matrix W.\n",
    "X_train = np.hstack([X_train, np.ones((X_train.shape[0], 1))])\n",
    "X_val = np.hstack([X_val, np.ones((X_val.shape[0], 1))])"
   ]
  },
  {
   "cell_type": "code",
   "execution_count": null,
   "metadata": {},
   "outputs": [],
   "source": [
    "# Encode the class labels\n",
    "from sklearn.preprocessing import LabelEncoder\n",
    "classes = [\"cardboard\", \"compost\", \"glass\", \"metal\", \"paper\", \"plastic\", \"trash\"]\n",
    "le = LabelEncoder()\n",
    "le.fit(classes)\n",
    "y_train = le.transform(y_train)\n",
    "y_val = le.transform(y_val)"
   ]
  },
  {
   "cell_type": "code",
   "execution_count": null,
   "metadata": {
    "scrolled": true
   },
   "outputs": [],
   "source": [
    "# TRAIN THE MODEL\n",
    "svm = LinearSVM()\n",
    "tic = time.time()\n",
    "print(\"Training model with {} rows of training data\".format(X_train.shape[0]))\n",
    "loss_hist = svm.train(X_train, y_train, learning_rate=1e-7, reg=2.5e4,\n",
    "                      num_iters=1500, verbose=True)\n",
    "toc = time.time()\n",
    "print('Training Complete. That took %fs' % (toc - tic))"
   ]
  },
  {
   "cell_type": "code",
   "execution_count": 55,
   "metadata": {},
   "outputs": [
    {
     "data": {
      "image/png": "[encoded data removed]",
      "text/plain": [
       "<Figure size 432x288 with 1 Axes>"
      ]
     },
     "metadata": {
      "needs_background": "light"
     },
     "output_type": "display_data"
    }
   ],
   "source": [
    "# Plot the loss as a function iteration number:\n",
    "plt.plot(loss_hist)\n",
    "plt.xlabel('Iteration number')\n",
    "plt.ylabel('Loss value')\n",
    "plt.show()"
   ]
  },
  {
   "cell_type": "code",
   "execution_count": 56,
   "metadata": {},
   "outputs": [
    {
     "name": "stdout",
     "output_type": "stream",
     "text": [
      "Baseline validation set accuracy is 0.400556\n"
     ]
    }
   ],
   "source": [
    "# Validation set accuracy\n",
    "y_val_pred = svm.predict(X_val)\n",
    "val_accuracy = np.mean(y_val == y_val_pred)\n",
    "print('Baseline validation set accuracy is %f' % val_accuracy)"
   ]
  },
  {
   "cell_type": "code",
   "execution_count": 57,
   "metadata": {},
   "outputs": [
    {
     "name": "stdout",
     "output_type": "stream",
     "text": [
      "Baseline train set accuracy is 0.463143\n"
     ]
    }
   ],
   "source": [
    "# Training set accuracy\n",
    "y_train_pred = svm.predict(X_train)\n",
    "train_accuracy = np.mean(y_train == y_train_pred)\n",
    "print('Baseline train set accuracy is %f' % train_accuracy)"
   ]
  },
  {
   "cell_type": "code",
   "execution_count": null,
   "metadata": {},
   "outputs": [],
   "source": []
  },
  {
   "cell_type": "code",
   "execution_count": null,
   "metadata": {},
   "outputs": [],
   "source": []
  },
  {
   "cell_type": "code",
   "execution_count": null,
   "metadata": {},
   "outputs": [],
   "source": []
  },
  {
   "cell_type": "code",
   "execution_count": null,
   "metadata": {},
   "outputs": [],
   "source": []
  },
  {
   "cell_type": "code",
   "execution_count": null,
   "metadata": {},
   "outputs": [],
   "source": []
  }
 ],
 "metadata": {
  "kernelspec": {
   "display_name": "Python 3",
   "language": "python",
   "name": "python3"
  },
  "language_info": {
   "codemirror_mode": {
    "name": "ipython",
    "version": 3
   },
   "file_extension": ".py",
   "mimetype": "text/x-python",
   "name": "python",
   "nbconvert_exporter": "python",
   "pygments_lexer": "ipython3",
   "version": "3.7.1"
  }
 },
 "nbformat": 4,
 "nbformat_minor": 2
}
