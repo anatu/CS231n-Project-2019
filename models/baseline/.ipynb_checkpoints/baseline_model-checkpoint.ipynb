{
 "cells": [
  {
   "cell_type": "code",
   "execution_count": 36,
   "metadata": {},
   "outputs": [
    {
     "name": "stdout",
     "output_type": "stream",
     "text": [
      "C:/Users/Anand Natu/\n"
     ]
    }
   ],
   "source": [
    "# CODE REFERENCES\n",
    "# https://towardsdatascience.com/how-to-build-an-image-classifier-for-waste-sorting-6d11d3c9c478\n",
    "# https://github.com/danny95333/Trash-Classification-based-on-CNN\n",
    "from linear_classifier import *\n",
    "from linear_svm import *\n",
    "from softmax import *\n",
    "import time\n",
    "import random\n",
    "import shutil\n",
    "import re\n",
    "import os\n",
    "from pathlib import Path\n",
    "userPath = os.path.expanduser(\"~\")\n",
    "print(userPath.replace(\"\\\\\", \"/\") + \"/\")"
   ]
  },
  {
   "cell_type": "code",
   "execution_count": 40,
   "metadata": {},
   "outputs": [],
   "source": [
    "# DATA PROCESSING\n",
    "# Take the resized images and port into train, val, test folders\n",
    "# SEe \n",
    "## helper functions ##\n",
    "\n",
    "## splits indices for a folder into train, validation, and test indices with random sampling\n",
    "    ## input: folder path\n",
    "    ## output: train, valid, and test indices    \n",
    "def split_indices(folder,seed1,seed2):    \n",
    "    n = len(os.listdir(folder))\n",
    "    full_set = list(range(1,n+1))\n",
    "\n",
    "    ## train indices\n",
    "    random.seed(seed1)\n",
    "    train = random.sample(list(range(1,n+1)),int(.5*n))\n",
    "\n",
    "    ## temp\n",
    "    remain = list(set(full_set)-set(train))\n",
    "\n",
    "    ## separate remaining into validation and test\n",
    "    random.seed(seed2)\n",
    "    valid = random.sample(remain,int(.5*len(remain)))\n",
    "    test = list(set(remain)-set(valid))\n",
    "    return(train,valid,test)\n",
    "\n",
    "## gets file names for a particular type of trash, given indices\n",
    "    ## input: waste category and indices\n",
    "    ## output: file names \n",
    "def get_names(waste_type,indices):\n",
    "    file_names = [waste_type+str(i)+\".jpg\" for i in indices]\n",
    "    return(file_names)    \n",
    "\n",
    "## moves group of source files to another folder\n",
    "    ## input: list of source files and destination folder\n",
    "    ## no output\n",
    "def move_files(source_files,destination_folder):\n",
    "    for file in source_files:\n",
    "        # Copy files so they still live in the source folder in case we need to repeat / change the operation\n",
    "        # without having to re-downlaod in the source data\n",
    "        shutil.copy(file,destination_folder)"
   ]
  },
  {
   "cell_type": "code",
   "execution_count": 41,
   "metadata": {},
   "outputs": [],
   "source": [
    "# DATA PROCESSING\n",
    "# Make train, val, and test folders for data (preserving the \n",
    "# child folder structure which tells us the waste type)\n",
    "## paths will be train/cardboard, train/glass, etc...\n",
    "subsets = ['train','val']\n",
    "waste_types = ['cardboard','glass','metal','paper','plastic','trash']\n",
    "\n",
    "\n",
    "inBase = \"Documents/GitHub/CS231n-Project-2019/datasets/trashnet/dataset-resized\"\n",
    "inDataPath = os.path.join(userPath, inBase)\n",
    "outBase = \"Documents/GitHub/CS231n-Project-2019/datasets/trashnet/data\"\n",
    "outDataPath = os.path.join(userPath, outBase)\n",
    "\n",
    "## create destination folders for data subset and waste type\n",
    "for subset in subsets:\n",
    "    for waste_type in waste_types:\n",
    "        folder = os.path.join(outDataPath,subset,waste_type)\n",
    "        if not os.path.exists(folder):\n",
    "            os.makedirs(folder)\n",
    "\n",
    "if not os.path.exists(os.path.join(outDataPath,'test')):\n",
    "    os.makedirs(os.path.join(outDataPath,'test'))\n",
    "            \n",
    "## move files to destination folders for each waste type\n",
    "for waste_type in waste_types:\n",
    "    source_folder = os.path.join(inDataPath,waste_type)\n",
    "    train_ind, valid_ind, test_ind = split_indices(source_folder,1,1)\n",
    "    \n",
    "    ## move source files to train\n",
    "    train_names = get_names(waste_type,train_ind)\n",
    "    train_source_files = [os.path.join(source_folder,name) for name in train_names]\n",
    "    train_dest = userPath.replace(\"\\\\\", \"/\") + \"/\" + outBase + \"/train/\" + waste_type\n",
    "    move_files(train_source_files,train_dest)\n",
    "    \n",
    "    ## move source files to valid\n",
    "    valid_names = get_names(waste_type,valid_ind)\n",
    "    valid_source_files = [os.path.join(source_folder,name) for name in valid_names]\n",
    "    valid_dest = userPath.replace(\"\\\\\", \"/\") + \"/\" + outBase + \"/val/\" + waste_type\n",
    "    move_files(valid_source_files,valid_dest)\n",
    "    \n",
    "    ## move source files to test\n",
    "    test_names = get_names(waste_type,test_ind)\n",
    "    test_source_files = [os.path.join(source_folder,name) for name in test_names]\n",
    "    ## I use data/test here because the images can be mixed up\n",
    "    move_files(test_source_files, userPath.replace(\"\\\\\", \"/\") + \"/\" + outBase + \"/test\")"
   ]
  },
  {
   "cell_type": "code",
   "execution_count": 43,
   "metadata": {
    "scrolled": true
   },
   "outputs": [],
   "source": [
    "# DATA AUGMENTATION\n",
    "# Loading the dataset into memory and applying transforms\n",
    "import torch\n",
    "from torchvision import transforms, datasets\n",
    "\n",
    "\n",
    "# Data augmentation and normalization for training\n",
    "# Just normalization for validation\n",
    "data_transforms = {\n",
    "    'train': transforms.Compose([\n",
    "        transforms.RandomResizedCrop(224),\n",
    "        transforms.RandomHorizontalFlip(),\n",
    "        transforms.ToTensor(),\n",
    "        transforms.Normalize([0.485, 0.456, 0.406], [0.229, 0.224, 0.225])\n",
    "    ]),\n",
    "    'val': transforms.Compose([\n",
    "        transforms.Resize(256),\n",
    "        transforms.CenterCrop(224),\n",
    "        transforms.ToTensor(),\n",
    "        transforms.Normalize([0.485, 0.456, 0.406], [0.229, 0.224, 0.225])\n",
    "    ]),\n",
    "}\n",
    "\n",
    "\n",
    "# Create an ImageFolder dataloader for the input data\n",
    "# See https://pytorch.org/docs/stable/torchvision/datasets.html#imagefolder\n",
    "image_datasets = {x: datasets.ImageFolder(os.path.join(outDataPath, x),\n",
    "                                          data_transforms[x]) for x in [\"train\", \"val\"]}\n",
    "\n",
    "# Create DataLoader objects for each of the image datasets returned by ImageFolder\n",
    "# See https://pytorch.org/docs/stable/data.html\n",
    "dataloaders = {x: torch.utils.data.DataLoader(image_datasets[x], batch_size=64,\n",
    "                                              shuffle=True, num_workers=4) for x in ['train', 'val']}\n",
    "\n",
    "\n",
    "datasets_sizes = {x: len(image_datasets[x]) for x in ['train', 'val']}\n",
    "\n",
    "class_names = image_datasets['train'].classes\n",
    "\n"
   ]
  },
  {
   "cell_type": "code",
   "execution_count": 46,
   "metadata": {
    "scrolled": true
   },
   "outputs": [
    {
     "name": "stdout",
     "output_type": "stream",
     "text": [
      "{'train': 1262, 'val': 630}\n",
      "['cardboard', 'glass', 'metal', 'paper', 'plastic', 'trash']\n",
      "{'train': Dataset ImageFolder\n",
      "    Number of datapoints: 1262\n",
      "    Root Location: C:\\Users\\Anand Natu\\Documents/GitHub/CS231n-Project-2019/datasets/trashnet/data\\train\n",
      "    Transforms (if any): Compose(\n",
      "                             RandomResizedCrop(size=(224, 224), scale=(0.08, 1.0), ratio=(0.75, 1.3333), interpolation=PIL.Image.BILINEAR)\n",
      "                             RandomHorizontalFlip(p=0.5)\n",
      "                             ToTensor()\n",
      "                             Normalize(mean=[0.485, 0.456, 0.406], std=[0.229, 0.224, 0.225])\n",
      "                         )\n",
      "    Target Transforms (if any): None, 'val': Dataset ImageFolder\n",
      "    Number of datapoints: 630\n",
      "    Root Location: C:\\Users\\Anand Natu\\Documents/GitHub/CS231n-Project-2019/datasets/trashnet/data\\val\n",
      "    Transforms (if any): Compose(\n",
      "                             Resize(size=256, interpolation=PIL.Image.BILINEAR)\n",
      "                             CenterCrop(size=(224, 224))\n",
      "                             ToTensor()\n",
      "                             Normalize(mean=[0.485, 0.456, 0.406], std=[0.229, 0.224, 0.225])\n",
      "                         )\n",
      "    Target Transforms (if any): None}\n"
     ]
    }
   ],
   "source": [
    "print(datasets_sizes)\n",
    "print(class_names)\n",
    "print(image_datasets)"
   ]
  },
  {
   "cell_type": "code",
   "execution_count": 3,
   "metadata": {},
   "outputs": [],
   "source": [
    "# TRAIN THE MODEL\n",
    "svm = LinearSVM()\n",
    "tic = time.time()\n",
    "print(\"Training model with {} rows of training data\".format(X_train.shape[0]))\n",
    "loss_hist = svm.train(X_train, y_train, learning_rate=1e-7, reg=2.5e4,\n",
    "                      num_iters=1500, verbose=True)\n",
    "toc = time.time()\n",
    "print('Training Complete. That took %fs' % (toc - tic))"
   ]
  },
  {
   "cell_type": "code",
   "execution_count": null,
   "metadata": {},
   "outputs": [],
   "source": [
    "# HYPERPARAMETER TUNING\n"
   ]
  },
  {
   "cell_type": "code",
   "execution_count": 5,
   "metadata": {},
   "outputs": [],
   "source": [
    "# EVALUATE TEST PERFORMANCE\n"
   ]
  },
  {
   "cell_type": "code",
   "execution_count": null,
   "metadata": {},
   "outputs": [],
   "source": []
  }
 ],
 "metadata": {
  "kernelspec": {
   "display_name": "Python 3",
   "language": "python",
   "name": "python3"
  },
  "language_info": {
   "codemirror_mode": {
    "name": "ipython",
    "version": 3
   },
   "file_extension": ".py",
   "mimetype": "text/x-python",
   "name": "python",
   "nbconvert_exporter": "python",
   "pygments_lexer": "ipython3",
   "version": "3.7.3"
  }
 },
 "nbformat": 4,
 "nbformat_minor": 2
}
