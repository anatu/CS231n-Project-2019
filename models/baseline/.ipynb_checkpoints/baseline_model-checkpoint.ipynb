{
 "cells": [
  {
   "cell_type": "code",
   "execution_count": 1,
   "metadata": {},
   "outputs": [],
   "source": [
    "# CODE REFERENCES\n",
    "# https://towardsdatascience.com/how-to-build-an-image-classifier-for-waste-sorting-6d11d3c9c478\n",
    "# https://github.com/danny95333/Trash-Classification-based-on-CNN\n",
    "from linear_classifier import *\n",
    "from linear_svm import *\n",
    "from softmax import *\n",
    "import time\n",
    "import random\n",
    "import shutil\n",
    "import re\n",
    "import os\n",
    "from pathlib import Path\n",
    "from PIL import Image\n",
    "import numpy as np\n",
    "import imghdr\n",
    "import matplotlib.pyplot as plt"
   ]
  },
  {
   "cell_type": "code",
   "execution_count": 2,
   "metadata": {},
   "outputs": [],
   "source": [
    "# Declare the relative path to the PROCESSED trashnet data\n",
    "# i.e. this path should go to \"train\", \"test\", \"val\" folders each of which \n",
    "# contain images for the train, test, and validation sets respectively.\n",
    "dataRoot = \"../../datasets/trashnet/data\""
   ]
  },
  {
   "cell_type": "code",
   "execution_count": 8,
   "metadata": {
    "scrolled": true
   },
   "outputs": [],
   "source": [
    "##########################\n",
    "# DATA AUGMENTATION\n",
    "# Loading the dataset into memory and applying transforms\n",
    "# NOTE: May have to not use this for the baseline\n",
    "##########################\n",
    "\n",
    "# import torch\n",
    "# from torchvision import transforms, datasets\n",
    "\n",
    "\n",
    "# # Data augmentation and normalization for training\n",
    "# # Just normalization for validation\n",
    "# data_transforms = {\n",
    "#     'train': transforms.Compose([\n",
    "#         transforms.RandomResizedCrop(224),\n",
    "#         transforms.RandomHorizontalFlip(),\n",
    "#         transforms.ToTensor(),\n",
    "#         transforms.Normalize([0.485, 0.456, 0.406], [0.229, 0.224, 0.225])\n",
    "#     ]),\n",
    "#     'val': transforms.Compose([\n",
    "#         transforms.Resize(256),\n",
    "#         transforms.CenterCrop(224),\n",
    "#         transforms.ToTensor(),\n",
    "#         transforms.Normalize([0.485, 0.456, 0.406], [0.229, 0.224, 0.225])\n",
    "#     ]),\n",
    "# }\n",
    "\n",
    "\n",
    "# # Create an ImageFolder dataloader for the input data\n",
    "# # See https://pytorch.org/docs/stable/torchvision/datasets.html#imagefolder\n",
    "# image_datasets = {x: datasets.ImageFolder(os.path.join(outDataPath, x),\n",
    "#                                           data_transforms[x]) for x in [\"train\", \"val\"]}\n",
    "\n",
    "# # Create DataLoader objects for each of the image datasets returned by ImageFolder\n",
    "# # See https://pytorch.org/docs/stable/data.html\n",
    "# dataloaders = {x: torch.utils.data.DataLoader(image_datasets[x], batch_size=64,\n",
    "#                                               shuffle=True, num_workers=4) for x in ['train', 'val']}\n",
    "\n",
    "\n",
    "# datasets_sizes = {x: len(image_datasets[x]) for x in ['train', 'val']}\n",
    "\n",
    "# class_names = image_datasets['train'].classes\n",
    "\n",
    "# print(datasets_sizes)\n",
    "# print(class_names)\n",
    "# print(image_datasets)"
   ]
  },
  {
   "cell_type": "code",
   "execution_count": 3,
   "metadata": {},
   "outputs": [],
   "source": [
    "# TODO: Implement data loading manually as np arrays\n",
    "##########################\n",
    "# Loading the dataset into memory and applying transforms\n",
    "##########################\n",
    "\n",
    "# TODO: Preinitialize X etc. as zeros\n",
    "\n",
    "def load_image( infilename ) :\n",
    "    '''\n",
    "    Helper function to manually load in images. Accepts image path infilename \n",
    "    and returns the numpy array representation of the image data\n",
    "    (Need final X to be of dims (N, H, W, D))\n",
    "    '''\n",
    "    img = Image.open( infilename )\n",
    "    img.load()\n",
    "    data = np.asarray( img, dtype=\"int32\" )\n",
    "    return data\n",
    "\n",
    "# Load the training data\n",
    "arrayList = []\n",
    "labelList = []\n",
    "trainRoot = os.path.join(dataRoot, \"train\")\n",
    "for c in os.listdir(os.path.join(trainRoot)):\n",
    "    for item in os.listdir(os.path.join(trainRoot, c)):\n",
    "        if imghdr.what(os.path.join(trainRoot, c, item)):\n",
    "            # Convert the image to a numpy array\n",
    "            data = load_image(os.path.join(trainRoot, c, item))\n",
    "            # Add to the array which we will stack at the end to form X\n",
    "            arrayList.append(data)\n",
    "            # Add label to array for Y\n",
    "            labelList.append(c)\n",
    "X_train = np.stack(tuple(arrayList))\n",
    "y_train = np.array(labelList)\n",
    "        \n",
    "            \n",
    "# Load the validation data\n",
    "arrayList = []\n",
    "labelList = []\n",
    "valRoot = os.path.join(dataRoot, \"val\")\n",
    "for c in os.listdir(os.path.join(valRoot)):\n",
    "    for item in os.listdir(os.path.join(valRoot, c)):\n",
    "        if imghdr.what(os.path.join(valRoot, c, item)):\n",
    "            # Convert the image to a numpy array\n",
    "            data = load_image(os.path.join(valRoot, c, item))\n",
    "            # Add to the array which we will stack at the end to form X\n",
    "            arrayList.append(data)\n",
    "            # Add label to array for Y\n",
    "            labelList.append(c)\n",
    "X_val = np.stack(tuple(arrayList))\n",
    "y_val = np.array(labelList)\n",
    "\n",
    "# Load the test data\n",
    "arrayList = []\n",
    "labelList = []\n",
    "testRoot = os.path.join(dataRoot, \"test\")\n",
    "for item in os.listdir(testRoot):\n",
    "    if imghdr.what(os.path.join(testRoot, item)):\n",
    "        # Produce label from filename\n",
    "        ########\n",
    "        # TODO: Go back to dataloader and change it so we bucket test data into the same \n",
    "        # subfolder structure as train and val data\n",
    "        ########\n",
    "        c = os.path.splitext(re.sub(\"[0-9]+\", \"\", item))[0]\n",
    "        data = load_image(os.path.join(testRoot, item))\n",
    "        arrayList.append(data)\n",
    "        labelList.append(c)\n",
    "X_test = np.stack(tuple(arrayList))\n",
    "y_test = np.array(labelList)\n"
   ]
  },
  {
   "cell_type": "code",
   "execution_count": 4,
   "metadata": {},
   "outputs": [],
   "source": [
    "# Flatten X matrices down for SVM classification\n",
    "imageDim = 384*512*3\n",
    "\n",
    "X_train = X_train.reshape((X_train.shape[0], imageDim))\n",
    "X_val = X_val.reshape((X_val.shape[0], imageDim))\n",
    "X_test = X_test.reshape((X_test.shape[0], imageDim))"
   ]
  },
  {
   "cell_type": "code",
   "execution_count": 5,
   "metadata": {},
   "outputs": [
    {
     "name": "stdout",
     "output_type": "stream",
     "text": [
      "(1549, 589824)\n",
      "(1549,)\n",
      "(950, 589824)\n",
      "(950,)\n",
      "(970, 589824)\n",
      "(970,)\n"
     ]
    }
   ],
   "source": [
    "# Sanity check dimensions\n",
    "print(X_train.shape)\n",
    "print(y_train.shape)\n",
    "print(X_val.shape)\n",
    "print(y_val.shape)\n",
    "print(X_test.shape)\n",
    "print(y_test.shape)"
   ]
  },
  {
   "cell_type": "code",
   "execution_count": 6,
   "metadata": {},
   "outputs": [
    {
     "name": "stdout",
     "output_type": "stream",
     "text": [
      "[205.03873467 195.42414461 188.85409942 205.09038089 195.50677857\n",
      " 188.95287282 205.00322789 195.46029697 188.90316333 204.8373144 ]\n"
     ]
    },
    {
     "data": {
      "image/png": "[encoded data removed]",
      "text/plain": [
       "<Figure size 288x288 with 1 Axes>"
      ]
     },
     "metadata": {
      "needs_background": "light"
     },
     "output_type": "display_data"
    }
   ],
   "source": [
    "# Preprocessing: subtract the mean image\n",
    "# first: compute the image mean based on the training data\n",
    "mean_image = np.mean(X_train, axis=0)\n",
    "print(mean_image[:10]) # print a few of the elements\n",
    "plt.figure(figsize=(4,4))\n",
    "plt.imshow(mean_image.reshape((384,512,3)).astype('uint8')) # visualize the mean image\n",
    "plt.show()"
   ]
  },
  {
   "cell_type": "code",
   "execution_count": 7,
   "metadata": {},
   "outputs": [],
   "source": [
    "# second: subtract the mean image from train and test data\n",
    "X_train = X_train.astype(float) - mean_image\n",
    "X_val = X_val.astype(float) - mean_image\n",
    "X_test = X_test.astype(float) - mean_image"
   ]
  },
  {
   "cell_type": "code",
   "execution_count": 8,
   "metadata": {},
   "outputs": [
    {
     "name": "stdout",
     "output_type": "stream",
     "text": [
      "(1549, 589825) (950, 589825) (970, 589825)\n"
     ]
    }
   ],
   "source": [
    "# third: append the bias dimension of ones (i.e. bias trick) so that our SVM\n",
    "# only has to worry about optimizing a single weight matrix W.\n",
    "X_train = np.hstack([X_train, np.ones((X_train.shape[0], 1))])\n",
    "X_val = np.hstack([X_val, np.ones((X_val.shape[0], 1))])\n",
    "X_test = np.hstack([X_test, np.ones((X_test.shape[0], 1))])\n",
    "\n",
    "print(X_train.shape, X_val.shape, X_test.shape)"
   ]
  },
  {
   "cell_type": "code",
   "execution_count": 9,
   "metadata": {},
   "outputs": [],
   "source": [
    "# Encode the class labels\n",
    "from sklearn.preprocessing import LabelEncoder\n",
    "classes = [\"cardboard\", \"compost\", \"glass\", \"metal\", \"paper\", \"plastic\", \"trash\"]\n",
    "le = LabelEncoder()\n",
    "le.fit(classes)\n",
    "y_train = le.transform(y_train)\n",
    "y_val = le.transform(y_val)\n",
    "y_test = le.transform(y_test)"
   ]
  },
  {
   "cell_type": "code",
   "execution_count": 10,
   "metadata": {},
   "outputs": [
    {
     "name": "stdout",
     "output_type": "stream",
     "text": [
      "Training model with 1549 rows of training data\n",
      "iteration 0 / 1500: loss 51758.970565\n",
      "iteration 100 / 1500: loss 18950.350247\n",
      "iteration 200 / 1500: loss 6955.128668\n",
      "iteration 300 / 1500: loss 2559.567971\n",
      "iteration 400 / 1500: loss 944.906624\n",
      "iteration 500 / 1500: loss 345.842202\n",
      "iteration 600 / 1500: loss 136.435954\n",
      "iteration 700 / 1500: loss 48.787233\n",
      "iteration 800 / 1500: loss 27.078610\n",
      "iteration 900 / 1500: loss 10.775324\n",
      "iteration 1000 / 1500: loss 4.603236\n",
      "iteration 1100 / 1500: loss 3.412914\n",
      "iteration 1200 / 1500: loss 4.076586\n",
      "iteration 1300 / 1500: loss 3.812797\n",
      "iteration 1400 / 1500: loss 2.569621\n",
      "Training Complete. That took 1143.433850s\n"
     ]
    }
   ],
   "source": [
    "# TRAIN THE MODEL\n",
    "svm = LinearSVM()\n",
    "tic = time.time()\n",
    "print(\"Training model with {} rows of training data\".format(X_train.shape[0]))\n",
    "loss_hist = svm.train(X_train, y_train, learning_rate=1e-7, reg=2.5e4,\n",
    "                      num_iters=1500, verbose=True)\n",
    "toc = time.time()\n",
    "print('Training Complete. That took %fs' % (toc - tic))"
   ]
  },
  {
   "cell_type": "code",
   "execution_count": 12,
   "metadata": {},
   "outputs": [
    {
     "name": "stdout",
     "output_type": "stream",
     "text": [
      "Baseline validation set accuracy is 0.424211\n"
     ]
    }
   ],
   "source": [
    "# Validation set accuracy\n",
    "y_val_pred = svm.predict(X_val)\n",
    "val_accuracy = np.mean(y_val == y_val_pred)\n",
    "print('Baseline validation set accuracy is %f' % val_accuracy)"
   ]
  },
  {
   "cell_type": "code",
   "execution_count": null,
   "metadata": {},
   "outputs": [],
   "source": [
    "w = svm.W[:-1,:] # strip out the bias\n",
    "w = w.reshape(384, 512, 3, len(classes))\n",
    "w_min, w_max = np.min(w), np.max(w)\n",
    "for i in range(len(classes)):\n",
    "    plt.subplot(2, 5, i + 1)\n",
    "      \n",
    "    # Rescale the weights to be between 0 and 255\n",
    "    wimg = 255.0 * (w[:, :, :, i].squeeze() - w_min) / (w_max - w_min)\n",
    "    plt.imshow(wimg.astype('uint8'))\n",
    "    plt.axis('off')\n",
    "    plt.title(classes[i])"
   ]
  },
  {
   "cell_type": "code",
   "execution_count": null,
   "metadata": {},
   "outputs": [],
   "source": []
  }
 ],
 "metadata": {
  "kernelspec": {
   "display_name": "Python 3",
   "language": "python",
   "name": "python3"
  },
  "language_info": {
   "codemirror_mode": {
    "name": "ipython",
    "version": 3
   },
   "file_extension": ".py",
   "mimetype": "text/x-python",
   "name": "python",
   "nbconvert_exporter": "python",
   "pygments_lexer": "ipython3",
   "version": "3.7.3"
  }
 },
 "nbformat": 4,
 "nbformat_minor": 2
}
